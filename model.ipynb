{
 "cells": [
  {
   "cell_type": "code",
   "execution_count": 92,
   "metadata": {},
   "outputs": [],
   "source": [
    "import numpy as np\n",
    "import tweepy as tw\n",
    "from sklearn.linear_model import LogisticRegression\n",
    "from sklearn.model_selection import train_test_split\n",
    "import matplotlib.pyplot as plt\n",
    "import csv"
   ]
  },
  {
   "cell_type": "code",
   "execution_count": 93,
   "metadata": {},
   "outputs": [],
   "source": [
    "\n",
    "\n",
    "def loadDataset(file):\n",
    "    with open(file, newline='\\n') as csvfile:\n",
    "        spamreader = csv.reader(csvfile, delimiter=',')\n",
    "        data = []\n",
    "        for row in spamreader:\n",
    "            dataPoint = (row[0], float(row[1]))\n",
    "            data.append(dataPoint)\n",
    "        return data"
   ]
  },
  {
   "cell_type": "code",
   "execution_count": 94,
   "metadata": {},
   "outputs": [],
   "source": [
    "#To run this function access to the Twitter API is needed\n",
    "#Info can be found here: https://developer.twitter.com/en/docs\n",
    "\n",
    "#@params:\n",
    "    #num_tweets: Int number of tweets to scrape.\n",
    "    #sarcastic: String which defines the \"sarcastic\" query.\n",
    "    #serious: String which defines the \"serious\" query.\n",
    "    #API_key: Twitter api key.\n",
    "    #API_secret_key: Twitter secret api key.\n",
    "\n",
    "#@return:\n",
    "    #data: List of tuples of the form (text, label) where text is some tweet and\n",
    "        #label is 1.0 or -1.0 depending on the tweets hashtag.\n",
    "        \n",
    "def scrape(num_tweets, sarcastic, serious, API_key, API_secret_key):\n",
    "        \n",
    "    data=[]\n",
    "    \n",
    "    auth = tw.AppAuthHandler(API_key, API_secret_key)\n",
    "    api = tw.API(auth)\n",
    "\n",
    "    sarc_tweets = tw.Cursor(api.search, q=sarcastic, lang=\"en\", tweet_mode='extended').items(num_tweets)\n",
    "    for tweet in sarc_tweets:\n",
    "        t1 = tweet.full_text\n",
    "        t1 = t1.lower()\n",
    "        t1 = t1.replace('#sarcasm', '')\n",
    "        t1 = t1.replace('#irony', '')\n",
    "        t = (t1, 1.0)\n",
    "        data.append(t)\n",
    "\n",
    "\n",
    "    ser_tweets = tw.Cursor(api.search, q=serious, lang=\"en\", tweet_mode='extended').items(num_tweets)\n",
    "    for tweet in ser_tweets:\n",
    "        t1 = tweet.full_text\n",
    "        t1 = t1.lower()\n",
    "        t1 = t1.replace('#serious', '')\n",
    "        t1 = t1.replace('#happy', '')\n",
    "        t = (t1, 0.0)\n",
    "        data.append(t)\n",
    "    \n",
    "    return data"
   ]
  },
  {
   "cell_type": "code",
   "execution_count": 95,
   "metadata": {},
   "outputs": [],
   "source": [
    "#@params:\n",
    "    #data: List of tuples of the form (text, label) where text is some tweet and \n",
    "        #label is 1.0 or -1.0 depending on the tweets hashtag.\n",
    "    #lc: Boolean where true to lowercases the text and false does not.\n",
    "    #punc: Boolean where true removes punctuation and false does not.\n",
    "    #w: Float value given to labels (EX: -1.0, 1.0).\n",
    "    #n_gram: Integer that determines n_gram mode. If n_gram is 0, then tokens are generated \n",
    "        #by whitespace. If n_gram > 0, tokens are n_grams of length n_gram. For example,\n",
    "        #if n_gram = 2, the tokenizer will generate bigram tokens.\n",
    "    #stop_words: List of stop_words to be removed from the text. Only works in n_gram = 0 mode.\n",
    "\n",
    "#@return:\n",
    "    #XY: XY is a list with 2 entries\n",
    "    #XY[0]=X is nxm matrix where n = |tweets| and m = |vocab|. Each entry in X is a feature \n",
    "        #vector for a tweet.\n",
    "    #XY[1]=Y is nX1 matrix. Each entry in Y is a label for a tweet.\n",
    "    \n",
    "def tokenizer(data, lc, punc, w, n_gram, stop_words):\n",
    "    XY = []\n",
    "    X = []\n",
    "    Y = []\n",
    "    vocab = {}  \n",
    "    tweet_list = []\n",
    "    for tweet in data:\n",
    "        if(tweet[1] == -1.0):\n",
    "            weight = w * -1.0\n",
    "        else:\n",
    "            weight = w\n",
    "        text_list = []\n",
    "        text = tweet[0]\n",
    "        Y.append(tweet[1])\n",
    "        if(lc):\n",
    "            text = text.lower()\n",
    "            \n",
    "        if(punc):\n",
    "            text = text.translate({ord(i): None for i in '.!@#$%^&*();:<,>?/{}[]\\|=+-_~'})   \n",
    "        \n",
    "        if(n_gram == 0):\n",
    "            text_list = text.split()\n",
    "            for word in text_list:\n",
    "                \n",
    "                if(word in stop_words):\n",
    "                    text_list.remove(word)\n",
    "                    \n",
    "                elif(word not in vocab):\n",
    "                    vocab[word] = weight\n",
    "                else:\n",
    "                    vocab[word] = vocab[word] + weight\n",
    "        elif(n_gram > 0):\n",
    "            token = \"\"\n",
    "            for i in range(0, len(text)):\n",
    "                if((i + n_gram) < len(text)):\n",
    "                    for j in range(0, n_gram):\n",
    "                        token = token + text[i+j]\n",
    "                text_list.append(token)\n",
    "                if(token not in vocab):\n",
    "                        vocab[token] = weight\n",
    "                else:\n",
    "                        vocab[token] = vocab[token] + weight\n",
    "                token = \"\"\n",
    "        tweet_list.append(text_list)\n",
    "    vocab_list = []\n",
    "    for token in vocab:\n",
    "        vocab_list.append(token)\n",
    "    for tweet in tweet_list:\n",
    "        vect = []\n",
    "        for word in vocab_list:\n",
    "            vect.append(word)\n",
    "        for i in range(0, len(vect)):\n",
    "            if(vect[i] in tweet):\n",
    "                vect[i] = vocab[token]\n",
    "            else:\n",
    "                vect[i] = 0.0\n",
    "        X.append(vect)\n",
    "        \n",
    "    XY.append(X)\n",
    "    XY.append(Y)\n",
    "    return XY"
   ]
  },
  {
   "cell_type": "code",
   "execution_count": 96,
   "metadata": {},
   "outputs": [],
   "source": [
    "#@params:\n",
    "    #X_test: Array of test vectors for X\n",
    "    #y_test: Vector of labels for X_test\n",
    "\n",
    "#@return:\n",
    "    #stats: List of values where:\n",
    "        #stats[0] = accuracy\n",
    "        #stats[1] = recall\n",
    "        #stats[2] = precision\n",
    "        #stats[3] = f1_score\n",
    "        \n",
    "def get_stats(X_test, y_test, logreg):\n",
    "    \n",
    "    stats = []\n",
    "    \n",
    "    sim = logreg.predict(X_test)\n",
    "\n",
    "    total = len(y_test)\n",
    "    false_pos = 0.0\n",
    "    false_neg = 0.0\n",
    "    true_pos = 0.0\n",
    "    true_neg = 0.0\n",
    "\n",
    "    for i in range(0, total):\n",
    "        if y_test[i] != sim[i]:\n",
    "            if y_test[i] == 1.0:\n",
    "                false_neg+=1.0\n",
    "            else:\n",
    "                false_pos+=1.0\n",
    "        else:\n",
    "            if y_test[i] == 1.0:\n",
    "                true_pos+=1.0\n",
    "            else:\n",
    "                true_neg+=1.0\n",
    "\n",
    "    accuracy = (true_pos + true_neg) / float(total)\n",
    "    recall = true_pos / (true_pos + false_neg)\n",
    "    precision = true_pos / (true_pos + false_pos)\n",
    "    f1_score = (2 * precision * recall) / (precision + recall)\n",
    "\n",
    "    stats.append(accuracy)\n",
    "    stats.append(recall)\n",
    "    stats.append(precision)\n",
    "    stats.append(f1_score)\n",
    "    \n",
    "    return stats\n"
   ]
  },
  {
   "cell_type": "code",
   "execution_count": 77,
   "metadata": {},
   "outputs": [
    {
     "name": "stdout",
     "output_type": "stream",
     "text": [
      "2000\n"
     ]
    }
   ],
   "source": [
    "sarcastic=\"#irony OR #sarcasm -filter:retweets\"\n",
    "serious=\"#serious OR #happy -filter:retweets\"\n",
    "API_key='FefcgZBtr06cMxhLaEaBmyYQu'\n",
    "API_secret_key='UvYiZll4VvTuacUHpTEfYe2HqCKHkOfL8zo8HITClNwoaTcprt'\n",
    "dataset1 = scrape(1000, sarcastic, serious, API_key, API_secret_key)\n",
    "print(len(dataset1))"
   ]
  },
  {
   "cell_type": "code",
   "execution_count": 26,
   "metadata": {},
   "outputs": [
    {
     "name": "stdout",
     "output_type": "stream",
     "text": [
      "0\n",
      "1\n",
      "2\n",
      "3\n",
      "4\n",
      "5\n",
      "6\n",
      "7\n",
      "8\n",
      "9\n",
      "10\n",
      "11\n",
      "12\n",
      "13\n",
      "14\n",
      "15\n",
      "16\n",
      "17\n",
      "18\n",
      "19\n",
      "20\n",
      "21\n",
      "22\n",
      "23\n",
      "24\n",
      "25\n",
      "26\n",
      "27\n",
      "28\n",
      "29\n",
      "30\n",
      "31\n",
      "32\n",
      "33\n",
      "34\n",
      "35\n",
      "36\n",
      "37\n",
      "38\n",
      "39\n",
      "40\n",
      "41\n",
      "42\n",
      "43\n",
      "44\n",
      "45\n",
      "46\n",
      "47\n",
      "48\n",
      "49\n"
     ]
    }
   ],
   "source": [
    "A=[]\n",
    "R=[]\n",
    "P=[]\n",
    "F=[]\n",
    "runs = 50\n",
    "for i in range(0, runs):\n",
    "    print(i)\n",
    "    sw=\"\"\n",
    "    XY= tokenizer(data, True, True, 1, 0, sw)\n",
    "    X=XY[0]\n",
    "    y=XY[1]\n",
    "    X_train, X_test, y_train, y_test = train_test_split(X, y, test_size=0.25, shuffle=True)\n",
    "    logreg = LogisticRegression(max_iter=10000)\n",
    "    logreg.fit(X_train, y_train)\n",
    "    stats = get_stats(X_test, y_test)\n",
    "    A.append(stats[0])\n",
    "    R.append(stats[1])\n",
    "    P.append(stats[2])\n",
    "    F.append(stats[3])"
   ]
  },
  {
   "cell_type": "code",
   "execution_count": 33,
   "metadata": {},
   "outputs": [
    {
     "name": "stdout",
     "output_type": "stream",
     "text": [
      "\n",
      "\n",
      "\n",
      "\n",
      "\n",
      "\n",
      "\n",
      "\n",
      "\n",
      "\n",
      "\n",
      "\n",
      "\n",
      "\n",
      "\n",
      "\n",
      "\n",
      "\n",
      "\n",
      "\n",
      "\n",
      "\n",
      "\n",
      "\n",
      "\n"
     ]
    },
    {
     "data": {
      "image/png": "[encoded data removed]",
      "text/plain": [
       "<Figure size 432x288 with 1 Axes>"
      ]
     },
     "metadata": {
      "needs_background": "light"
     },
     "output_type": "display_data"
    },
    {
     "data": {
      "image/png": "[encoded data removed]",
      "text/plain": [
       "<Figure size 432x288 with 1 Axes>"
      ]
     },
     "metadata": {
      "needs_background": "light"
     },
     "output_type": "display_data"
    },
    {
     "data": {
      "image/png": "[encoded data removed]",
      "text/plain": [
       "<Figure size 432x288 with 1 Axes>"
      ]
     },
     "metadata": {
      "needs_background": "light"
     },
     "output_type": "display_data"
    },
    {
     "data": {
      "image/png": "[encoded data removed]",
      "text/plain": [
       "<Figure size 432x288 with 1 Axes>"
      ]
     },
     "metadata": {
      "needs_background": "light"
     },
     "output_type": "display_data"
    }
   ],
   "source": [
    "runs = 50\n",
    "a=0\n",
    "r=0\n",
    "p=0\n",
    "f=0\n",
    "for i in range(0, runs):\n",
    "    a = a + A[i]\n",
    "    r = r + R[i]\n",
    "    p = p + P[i]\n",
    "    f = f + F[i]\n",
    "\n",
    "a = a/runs\n",
    "r = r/runs\n",
    "p = p/runs\n",
    "f = f/runs\n",
    "\n",
    "Af = []\n",
    "Rf = []\n",
    "Pf = []\n",
    "Ff = []\n",
    "for i in range(0, runs):\n",
    "    Af.append(a)\n",
    "    Rf.append(r)\n",
    "    Pf.append(p)\n",
    "    Ff.append(f)\n",
    "print(\"\\n\\n\\n\\n\")\n",
    "x = range(0, runs)\n",
    "plt.figure(0)\n",
    "plt.plot(x, A, 'bo')\n",
    "plt.plot(x, Af, label=a)\n",
    "plt.legend()\n",
    "plt.xlabel(\"Run Number\")\n",
    "plt.ylabel(\"Accuracy\")\n",
    "plt.title(\"Average Accuracy Over 50 Runs\")\n",
    "print(\"\\n\\n\\n\\n\")\n",
    "plt.figure(1)\n",
    "plt.plot(x, R, 'ro')\n",
    "plt.plot(x, Rf, label=r)\n",
    "plt.legend()\n",
    "plt.xlabel(\"Run Number\")\n",
    "plt.ylabel(\"Recall\")\n",
    "plt.title(\"Average Recall Over 50 Runs\")\n",
    "print(\"\\n\\n\\n\\n\")\n",
    "plt.figure(2)\n",
    "plt.plot(x, P, 'go')\n",
    "plt.plot(x, Pf, label=p)\n",
    "plt.legend()\n",
    "plt.xlabel(\"Run Number\")\n",
    "plt.ylabel(\"Precision\")\n",
    "plt.title(\"Average Precision Over 50 Runs\")\n",
    "print(\"\\n\\n\\n\\n\")\n",
    "plt.figure(3)\n",
    "plt.plot(x, F, 'yo')\n",
    "plt.plot(x, Ff, label=f)\n",
    "plt.legend()\n",
    "plt.xlabel(\"Run Number\")\n",
    "plt.ylabel(\"F1-Score\")\n",
    "plt.title(\"Average F1-Score Over 50 Runs\")\n",
    "print(\"\\n\\n\\n\\n\")\n"
   ]
  },
  {
   "cell_type": "code",
   "execution_count": 115,
   "metadata": {},
   "outputs": [],
   "source": [
    "dataset2 = loadDataset(\"Dataset 2.csv\")\n",
    "dataset3 = loadDataset(\"dataset 3.csv\")\n",
    "final_data = []\n",
    "final_data = dataset1 + dataset2 + dataset3\n",
    "sw0=[]\n",
    "sw1= [\"i\", \"me\", \"my\", \"myself\", \"we\", \"our\", \"ours\", \"ourselves\", \"you\", \"your\", \"yours\", \"yourself\", \"yourselves\", \"he\", \"him\", \"his\", \"himself\", \"she\", \"her\", \"hers\", \"herself\", \"it\", \"its\", \"itself\", \"they\", \"them\", \"their\", \"theirs\", \"themselves\", \"what\", \"which\", \"who\", \"whom\", \"this\", \"that\", \"these\", \"those\", \"am\", \"is\", \"are\", \"was\", \"were\", \"be\", \"been\", \"being\", \"have\", \"has\", \"had\", \"having\", \"do\", \"does\", \"did\", \"doing\", \"a\", \"an\", \"the\", \"and\", \"but\", \"if\", \"or\", \"because\", \"as\", \"until\", \"while\", \"of\", \"at\", \"by\", \"for\", \"with\", \"about\", \"against\", \"between\", \"into\", \"through\", \"during\", \"before\", \"after\", \"above\", \"below\", \"to\", \"from\", \"up\", \"down\", \"in\", \"out\", \"on\", \"off\", \"over\", \"under\", \"again\", \"further\", \"then\", \"once\", \"here\", \"there\", \"when\", \"where\", \"why\", \"how\", \"all\", \"any\", \"both\", \"each\", \"few\", \"more\", \"most\", \"other\", \"some\", \"such\", \"no\", \"nor\", \"not\", \"only\", \"own\", \"same\", \"so\", \"than\", \"too\", \"very\", \"s\", \"t\", \"can\", \"will\", \"just\", \"don\", \"should\", \"now\"]\n",
    "XY= tokenizer(final_data, True, True, 1, 0, sw1)"
   ]
  },
  {
   "cell_type": "code",
   "execution_count": 116,
   "metadata": {},
   "outputs": [
    {
     "name": "stdout",
     "output_type": "stream",
     "text": [
      "2250 2250 250 250\n"
     ]
    }
   ],
   "source": [
    "X=XY[0]\n",
    "y=XY[1]\n",
    "\n",
    "\n",
    "X_train_f = []\n",
    "y_train_f =[]\n",
    "X_test_f = []\n",
    "y_test_f = []\n",
    "\n",
    "for i in range(0, len(final_data)):\n",
    "    if i<2250:\n",
    "        X_train_f.append(X[i])\n",
    "        y_train_f.append(y[i])\n",
    "    else:\n",
    "        X_test_f.append(X[i])\n",
    "        y_test_f.append(y[i])\n",
    "        \n",
    "print(len(X_train_f), len(y_train_f), len(X_test_f), len(y_test_f))"
   ]
  },
  {
   "cell_type": "code",
   "execution_count": 117,
   "metadata": {},
   "outputs": [],
   "source": [
    "logreg_final = LogisticRegression(max_iter=10000)\n",
    "logreg_final.fit(X_train_f, y_train_f)\n",
    "stats_final = get_stats(X_test_f, y_test_f, logreg_final)"
   ]
  },
  {
   "cell_type": "code",
   "execution_count": 118,
   "metadata": {},
   "outputs": [
    {
     "name": "stdout",
     "output_type": "stream",
     "text": [
      "[0.692, 0.8985507246376812, 0.4696969696969697, 0.6169154228855721]\n"
     ]
    }
   ],
   "source": [
    "print(stats_final)"
   ]
  },
  {
   "cell_type": "code",
   "execution_count": 136,
   "metadata": {},
   "outputs": [
    {
     "data": {
      "image/png": "[encoded data removed]",
      "text/plain": [
       "<Figure size 432x288 with 1 Axes>"
      ]
     },
     "metadata": {
      "needs_background": "light"
     },
     "output_type": "display_data"
    }
   ],
   "source": [
    "fig4 = plt.figure()\n",
    "ax = fig4.add_axes([0,0,1,1])\n",
    "ax.bar('Accuracy', stats_final[0], color='b')\n",
    "ax.bar('Recall', stats_final[1], color='r')\n",
    "ax.bar('Precision', stats_final[2], color='g')\n",
    "ax.bar('F1-Score', stats_final[3], color='y')\n",
    "plt.xlabel(\"Satistic\")\n",
    "plt.ylabel(\"Score\")\n",
    "plt.title(\"Statistics for Training on Dataset 1 and Dataset 2 and Testing on Dataset 3\")\n",
    "\n",
    "plt.show()"
   ]
  },
  {
   "cell_type": "code",
   "execution_count": null,
   "metadata": {},
   "outputs": [],
   "source": []
  }
 ],
 "metadata": {
  "kernelspec": {
   "display_name": "Python 3",
   "language": "python",
   "name": "python3"
  },
  "language_info": {
   "codemirror_mode": {
    "name": "ipython",
    "version": 3
   },
   "file_extension": ".py",
   "mimetype": "text/x-python",
   "name": "python",
   "nbconvert_exporter": "python",
   "pygments_lexer": "ipython3",
   "version": "3.8.3"
  }
 },
 "nbformat": 4,
 "nbformat_minor": 4
}
